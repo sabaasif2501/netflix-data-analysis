{
  "nbformat": 4,
  "nbformat_minor": 0,
  "metadata": {
    "colab": {
      "provenance": []
    },
    "kernelspec": {
      "name": "python3",
      "display_name": "Python 3"
    },
    "language_info": {
      "name": "python"
    }
  },
  "cells": [
    {
      "cell_type": "code",
      "execution_count": 26,
      "metadata": {
        "colab": {
          "base_uri": "https://localhost:8080/"
        },
        "id": "JuczuaVdweNx",
        "outputId": "5608009a-9155-4f26-a02b-3952f5886624"
      },
      "outputs": [
        {
          "output_type": "stream",
          "name": "stdout",
          "text": [
            "content types count:\n",
            "type\n",
            "Movie      6131\n",
            "TV Show    2676\n",
            "Name: count, dtype: int64\n",
            "Top 5 counties with more content :\n",
            "country\n",
            "United States     2818\n",
            "India              972\n",
            "Unknown            831\n",
            "United Kingdom     419\n",
            "Japan              245\n",
            "Name: count, dtype: int64\n",
            "Year Release : \n",
            "release_year\n",
            "2018    1147\n",
            "2017    1032\n",
            "2019    1030\n",
            "2020     953\n",
            "2016     902\n",
            "Name: count, dtype: int64\n",
            "top 5 generes :\n",
            "listed_in\n",
            "Dramas, International Movies                        362\n",
            "Documentaries                                       359\n",
            "Stand-Up Comedy                                     334\n",
            "Comedies, Dramas, International Movies              274\n",
            "Dramas, Independent Movies, International Movies    252\n",
            "Name: count, dtype: int64\n"
          ]
        }
      ],
      "source": [
        "import pandas as pd\n",
        "df = pd.read_csv(\"netflix_titles.csv\")\n",
        "df.fillna(\"Unknown\", inplace=True)\n",
        "# Question 1: Total Movies vs TV Shows\n",
        "print(\"content types count:\")\n",
        "print(df['type'].value_counts())\n",
        "# Question 2: Top 5 Countries with Most Content\n",
        "print(\"Top 5 counties with more content :\")\n",
        "print(df['country'].value_counts().head(5))\n",
        "# Question 3: Releases by Year (Top 5)\n",
        "print(\"Year Release : \")\n",
        "print(df['release_year'].value_counts().head(5))\n",
        "# Question 4: Most Popular Genres\n",
        "print(\"top 5 generes :\")\n",
        "print(df['listed_in'].value_counts().head(5))"
      ]
    }
  ]
}